{
 "cells": [
  {
   "cell_type": "code",
   "execution_count": 3,
   "metadata": {},
   "outputs": [],
   "source": [
    "# Importing libraries\n",
    "import pandas as pd\n",
    "import numpy as np"
   ]
  },
  {
   "cell_type": "code",
   "execution_count": 4,
   "metadata": {},
   "outputs": [],
   "source": [
    "# User-defined parameters for the minimum and target populations and proportions\n",
    "min_population = 3500\n",
    "target_population = 25000\n",
    "min_proportion = 2/3\n",
    "target_proportion = 3/4"
   ]
  },
  {
   "cell_type": "code",
   "execution_count": 5,
   "metadata": {},
   "outputs": [],
   "source": [
    "# Read the input matrix from the CSV file\n",
    "raw_input_matrix = pd.read_csv('input_matrix.csv', index_col=0)"
   ]
  },
  {
   "cell_type": "code",
   "execution_count": 6,
   "metadata": {},
   "outputs": [],
   "source": [
    "# Copy of the input matrix and rename the first column to \"zones\"\n",
    "input_matrix = raw_input_matrix.rename_axis('zones', inplace=False)"
   ]
  },
  {
   "cell_type": "code",
   "execution_count": 13,
   "metadata": {},
   "outputs": [],
   "source": [
    "# 100 by 100 submatrix for testing\n",
    "input_matrix = input_matrix.iloc[100:200, 100:200]"
   ]
  },
  {
   "cell_type": "code",
   "execution_count": 10,
   "metadata": {},
   "outputs": [],
   "source": [
    "# The resident_proportion_matrix is number of commutes between areas A and B, as a proportion of the total number\n",
    "# of people who live in the area A. This is calculated by dividing each element of the input matrix (commutes between \n",
    "# A and B) by the sum of that row (total number who live in A). This answers the question: of all the people who \n",
    "# live in A, what proportion of them commute to B?\n",
    "resident_proportion_matrix = input_matrix.div(input_matrix.sum(axis=1), axis=0)"
   ]
  },
  {
   "cell_type": "code",
   "execution_count": 11,
   "metadata": {},
   "outputs": [],
   "source": [
    "# The worker_proportion_matrix is similar to the resident_proportion_matrix, but is a proportion of the total number \n",
    "# of people who work in the area B. This is calculated by dividing each element of the input matrix (commutes between \n",
    "# A and B) by the sum of that column (total number who work in B). This answers the question: of all the people who \n",
    "# work in B, what proportion of them commute from A?\n",
    "worker_proportion_matrix = input_matrix.div(input_matrix.sum(axis=0), axis=1)"
   ]
  },
  {
   "cell_type": "code",
   "execution_count": 12,
   "metadata": {},
   "outputs": [],
   "source": [
    "# This is a measure of the \"closeness\" of the relationship between areas A and B. It can be thought of as the number \n",
    "# of people who commute from A to B and from B to A, relative to all those who live and work in areas A and B.\n",
    "score_matrix = resident_proportion_matrix * worker_proportion_matrix + resident_proportion_matrix.T * worker_proportion_matrix.T\n",
    "score_matrix.to_csv('score_matrix.csv')"
   ]
  },
  {
   "cell_type": "code",
   "execution_count": 13,
   "metadata": {},
   "outputs": [],
   "source": [
    "# Please create a lookup of the zone indices from the input to the area_id (initialise this to unique intergers)\n",
    "# This will be used to map the indices of the score matrix to the area_id. Mkaes the zones the index.\n",
    "zone_area_lookup_v1 = pd.DataFrame(index=input_matrix.index)\n",
    "zone_area_lookup_v1['area'] = zone_area_lookup_v1.reset_index().index\n",
    "\n",
    "# Create a copy of the lookup for use in the next section; v1 will be kept unchanged as the fundamental lookup.\n",
    "zone_area_lookup = zone_area_lookup_v1.copy()"
   ]
  },
  {
   "cell_type": "code",
   "execution_count": 14,
   "metadata": {},
   "outputs": [],
   "source": [
    "# y = mx + c for the line that separates the valid and invalid areas (for the area between the min and target populations)\n",
    "m = (min_proportion - target_proportion) / (target_population - min_population)\n",
    "c = target_proportion - m*min_population"
   ]
  },
  {
   "cell_type": "code",
   "execution_count": 15,
   "metadata": {},
   "outputs": [],
   "source": [
    "# Create a dataframe with the summary statistics\n",
    "summary_matrix = pd.DataFrame(index=input_matrix.index)\n",
    "\n",
    "# Lookup each zone from summary_matrix using zone_area_lookup to find the area_id\n",
    "summary_matrix['area'] = summary_matrix.index.map(zone_area_lookup['area'])\n",
    "\n",
    "# Calculate summary statistics for each zone\n",
    "summary_matrix['total_residents'] = input_matrix.sum(axis=1)\n",
    "summary_matrix['total_workers'] = input_matrix.sum(axis=0)\n",
    "summary_matrix['proportion_residents_who_work_in_area'] = np.diag(resident_proportion_matrix)\n",
    "summary_matrix['proportion_workers_who_reside_in_area'] = np.diag(worker_proportion_matrix)\n",
    "\n",
    "# Create a column that indicates whether the area is valid or not, based on the user-defined parameters and the ONS defined 'feasible reagion'\n",
    "summary_matrix['valid_area'] = (summary_matrix['total_residents'] > min_population) & (summary_matrix[['proportion_residents_who_work_in_area', 'proportion_workers_who_reside_in_area']].min(axis=1) > min_proportion) & summary_matrix[['proportion_residents_who_work_in_area', 'proportion_workers_who_reside_in_area']].min(axis=1) > (c + m*summary_matrix['total_residents'])\n",
    "\n",
    "# The maximum score for each area is the highest score in the row, and the index of the maximum score is the area\n",
    "summary_matrix['max_score'] = score_matrix.max(axis=1)\n",
    "summary_matrix['max_score_index'] = score_matrix.idxmax(axis=1)\n",
    "\n",
    "# create a new column called \"new_area\" which the zones in the \"max_score_index\" to the are of area_id\n",
    "summary_matrix['new_area'] = summary_matrix['max_score_index'].map(zone_area_lookup['area'])\n",
    "\n",
    "# Create a new column called \"changed_area\" which is true if the new_area is different to the area\n",
    "summary_matrix['changed_area'] = summary_matrix['new_area'] != summary_matrix['area']"
   ]
  },
  {
   "cell_type": "code",
   "execution_count": 16,
   "metadata": {},
   "outputs": [],
   "source": [
    "# Order by score descending\n",
    "summary_matrix.sort_values(by='max_score', ascending=False, inplace=True)"
   ]
  }
 ],
 "metadata": {
  "kernelspec": {
   "display_name": "Python 3",
   "language": "python",
   "name": "python3"
  },
  "language_info": {
   "codemirror_mode": {
    "name": "ipython",
    "version": 3
   },
   "file_extension": ".py",
   "mimetype": "text/x-python",
   "name": "python",
   "nbconvert_exporter": "python",
   "pygments_lexer": "ipython3",
   "version": "3.9.6"
  }
 },
 "nbformat": 4,
 "nbformat_minor": 2
}
